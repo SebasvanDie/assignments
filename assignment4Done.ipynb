{
 "cells": [
  {
   "cell_type": "markdown",
   "metadata": {},
   "source": [
    "Before you turn this problem in, make sure everything runs as expected. First, **restart the kernel** (in the menubar, select Kernel$\\rightarrow$Restart) and then **run all cells** (in the menubar, select Cell$\\rightarrow$Run All).\n",
    "\n",
    "Make sure you fill in any place that says `YOUR CODE HERE` or \"YOUR ANSWER HERE\", as well as your name and collaborators below:"
   ]
  },
  {
   "cell_type": "code",
   "execution_count": 43,
   "metadata": {},
   "outputs": [],
   "source": [
    "NAME = \"Sebastiaan van Die, #2011278\"\n",
    "COLLABORATORS = \"\""
   ]
  },
  {
   "cell_type": "markdown",
   "metadata": {},
   "source": [
    "---"
   ]
  },
  {
   "cell_type": "code",
   "execution_count": 44,
   "metadata": {},
   "outputs": [
    {
     "ename": "SyntaxError",
     "evalue": "invalid syntax (<ipython-input-44-5e2dc15a036d>, line 1)",
     "output_type": "error",
     "traceback": [
      "\u001b[0;36m  File \u001b[0;32m\"<ipython-input-44-5e2dc15a036d>\"\u001b[0;36m, line \u001b[0;32m1\u001b[0m\n\u001b[0;31m    Fill in the cell above to provide us with your name and student number, like\u001b[0m\n\u001b[0m                   ^\u001b[0m\n\u001b[0;31mSyntaxError\u001b[0m\u001b[0;31m:\u001b[0m invalid syntax\n"
     ]
    }
   ],
   "source": [
    "Fill in the cell above to provide us with your name and student number, like\n",
    "\n",
    "NAME = \"Adam Smith, #student number#\"\n",
    "\n",
    "where you replace \"#student number#\" with your ... (very good!)\n",
    "\n",
    "and if you are doing this with someone else (not more than one other person):\n",
    "\n",
    "COLLABORATORS = \"Karl Marx, #student number#\""
   ]
  },
  {
   "cell_type": "markdown",
   "metadata": {},
   "source": [
    "# Assignment 4\n",
    "\n",
    "This is the assignment for week 4. This was actually an exam in a previous year. We give the points to give you an idea of how such an exam works. However, we grade assignments only as pass or fail."
   ]
  },
  {
   "cell_type": "markdown",
   "metadata": {},
   "source": [
    "# Doing math with python"
   ]
  },
  {
   "cell_type": "markdown",
   "metadata": {},
   "source": [
    "Here we use python to solve equations `scipy`'s function `fsolve`."
   ]
  },
  {
   "cell_type": "markdown",
   "metadata": {},
   "source": [
    "# Import libraries"
   ]
  },
  {
   "cell_type": "markdown",
   "metadata": {},
   "source": [
    "First, we need to import some libraries:"
   ]
  },
  {
   "cell_type": "code",
   "execution_count": 45,
   "metadata": {},
   "outputs": [],
   "source": [
    "from scipy import optimize\n",
    "from numpy import arange\n",
    "import matplotlib.pyplot as plt\n",
    "import numpy as np\n",
    "%matplotlib inline"
   ]
  },
  {
   "cell_type": "markdown",
   "metadata": {},
   "source": [
    "We are going to analyze the function $x^2 - 8x +15$.\n",
    "\n",
    "-   **1. [0.5 point]:** Define the python function `objective` as $x^2 - 8x +15$."
   ]
  },
  {
   "cell_type": "code",
   "execution_count": 46,
   "metadata": {
    "deletable": false,
    "nbgrader": {
     "checksum": "b5a13ae930363087b4e85782b4cb43e9",
     "grade": false,
     "grade_id": "cell-53f008f1377b78dd",
     "locked": false,
     "schema_version": 1,
     "solution": true
    }
   },
   "outputs": [],
   "source": [
    "def objective (x):\n",
    "    return((x**2)-(8*x) +15)\n"
   ]
  },
  {
   "cell_type": "markdown",
   "metadata": {},
   "source": [
    "We want to know what the zeros/roots are of this function; that is, the points $x$ where the function equals 0 (or, crosses the $x$-axis).\n",
    "\n",
    "-   **2. [1 point]:** Use `fsolve` from `scipy.optimize` to find **both** roots of this functions."
   ]
  },
  {
   "cell_type": "code",
   "execution_count": 47,
   "metadata": {
    "deletable": false,
    "nbgrader": {
     "checksum": "e35fd763eaeca551fbf92eca1b34de7a",
     "grade": false,
     "grade_id": "cell-d8981beefc03e4df",
     "locked": false,
     "schema_version": 1,
     "solution": true
    }
   },
   "outputs": [
    {
     "name": "stdout",
     "output_type": "stream",
     "text": [
      "[3. 5.]\n"
     ]
    }
   ],
   "source": [
    "from scipy.optimize import fsolve\n",
    "x0 = fsolve(objective, [-100,100])\n",
    "print(x0) #x = 0 at 3 and 5\n"
   ]
  },
  {
   "cell_type": "markdown",
   "metadata": {},
   "source": [
    "-   **3. [0.5 point]:** Find the points of intersection between the function `objective` above and the function $f(x)=1.5 x$."
   ]
  },
  {
   "cell_type": "code",
   "execution_count": 48,
   "metadata": {},
   "outputs": [
    {
     "name": "stdout",
     "output_type": "stream",
     "text": [
      "[2. 3.]\n",
      "[ 7.5  11.25]\n"
     ]
    }
   ],
   "source": [
    "def f (x):\n",
    "    return(1.5*x)\n",
    "\n",
    "def intersection(xy):\n",
    "    x, y = xy\n",
    "    z = np.array([y - x**2 + 8*x -15, y - 1.5*x])\n",
    "    return z\n",
    "print(fsolve(intersection,[0,5]))\n",
    "print(fsolve(intersection,[5,10]))\n",
    "\n",
    "#points of intersection are: (2,3) and (7.5,11.25)\n",
    "#looking at the graph below we can see objective is above f(x)\n",
    "#for x < 2 and x < 7.5\n"
   ]
  },
  {
   "cell_type": "raw",
   "metadata": {
    "deletable": false,
    "nbgrader": {
     "checksum": "69f5ece9fa84166921bfd81faacda21b",
     "grade": false,
     "grade_id": "cell-f96bbae5c5cc29f1",
     "locked": false,
     "schema_version": 1,
     "solution": true
    }
   },
   "source": []
  },
  {
   "cell_type": "markdown",
   "metadata": {},
   "source": [
    "We want to plot the function and hence need to define a range over which to plot. Define the range in such a way that the graph below looks \"nice\".\n",
    "\n",
    "-   **4. [0.5 point]:** Generate a list (or \"vector\", if you wish) of $x$ values between 0 and 8 (including 8.0). Call this `range_x`."
   ]
  },
  {
   "cell_type": "code",
   "execution_count": 49,
   "metadata": {
    "deletable": false,
    "nbgrader": {
     "checksum": "9ebc278e11bbcb6b0c489ce992b424a6",
     "grade": false,
     "grade_id": "cell-43613aaa871ce2ba",
     "locked": false,
     "schema_version": 1,
     "solution": true
    }
   },
   "outputs": [
    {
     "name": "stdout",
     "output_type": "stream",
     "text": [
      "[0.  0.1 0.2 0.3 0.4 0.5 0.6 0.7 0.8 0.9 1.  1.1 1.2 1.3 1.4 1.5 1.6 1.7\n",
      " 1.8 1.9 2.  2.1 2.2 2.3 2.4 2.5 2.6 2.7 2.8 2.9 3.  3.1 3.2 3.3 3.4 3.5\n",
      " 3.6 3.7 3.8 3.9 4.  4.1 4.2 4.3 4.4 4.5 4.6 4.7 4.8 4.9 5.  5.1 5.2 5.3\n",
      " 5.4 5.5 5.6 5.7 5.8 5.9 6.  6.1 6.2 6.3 6.4 6.5 6.6 6.7 6.8 6.9 7.  7.1\n",
      " 7.2 7.3 7.4 7.5 7.6 7.7 7.8 7.9 8. ]\n"
     ]
    }
   ],
   "source": [
    "range_x = arange(0.0,8.1,0.1)\n",
    "print(range_x)"
   ]
  },
  {
   "cell_type": "markdown",
   "metadata": {},
   "source": [
    "# Using `matplotlib`"
   ]
  },
  {
   "cell_type": "markdown",
   "metadata": {},
   "source": [
    "-   **5. [0.5 point]:** Above we import `matplotlib.pyplot`. Explain what the `plt`-part of this import does."
   ]
  },
  {
   "cell_type": "markdown",
   "metadata": {
    "deletable": false,
    "nbgrader": {
     "checksum": "d29c3dacb5ba91ccf4cf3c7add72a66c",
     "grade": true,
     "grade_id": "cell-b53d9867f47a02b3",
     "locked": false,
     "points": 0,
     "schema_version": 1,
     "solution": true
    }
   },
   "source": [
    "incase we want to use matplotlib.pyplot, we can type plt. instead of matplotlib.pyplot. which means we have made a shortcut."
   ]
  },
  {
   "cell_type": "markdown",
   "metadata": {},
   "source": [
    "-   **6. [1 point]:** Use `matplotlib` to plot both the function `objective` and the function $1.5 x$. Make sure that the horizontal axis is labeled $x$ and the vertical axis $y$."
   ]
  },
  {
   "cell_type": "code",
   "execution_count": 50,
   "metadata": {
    "deletable": false,
    "nbgrader": {
     "checksum": "d662591b3dde92090203751fd6452f62",
     "grade": false,
     "grade_id": "cell-4b9fcf110eead15d",
     "locked": false,
     "schema_version": 1,
     "solution": true
    }
   },
   "outputs": [
    {
     "data": {
      "image/png": "[encoded data removed]",
      "text/plain": [
       "<matplotlib.figure.Figure at 0x1514446390>"
      ]
     },
     "metadata": {},
     "output_type": "display_data"
    }
   ],
   "source": [
    "plt.plot(range_x,[objective(i)for i in range_x]) #the blue curve.\n",
    "\n",
    "plt.plot(range_x,[f(i)for i in range_x],'r') #the red curve.\n",
    "\n",
    "plt.ylabel('Y')\n",
    "plt.xlabel('X')\n",
    "\n",
    "plt.show()\n",
    "\n"
   ]
  },
  {
   "cell_type": "code",
   "execution_count": null,
   "metadata": {},
   "outputs": [],
   "source": []
  },
  {
   "cell_type": "code",
   "execution_count": null,
   "metadata": {},
   "outputs": [],
   "source": []
  },
  {
   "cell_type": "code",
   "execution_count": null,
   "metadata": {},
   "outputs": [],
   "source": []
  }
 ],
 "metadata": {
  "kernelspec": {
   "display_name": "Python 3",
   "language": "python",
   "name": "python3"
  },
  "language_info": {
   "codemirror_mode": {
    "name": "ipython",
    "version": 3
   },
   "file_extension": ".py",
   "mimetype": "text/x-python",
   "name": "python",
   "nbconvert_exporter": "python",
   "pygments_lexer": "ipython3",
   "version": "3.6.4"
  },
  "org": null
 },
 "nbformat": 4,
 "nbformat_minor": 1
}
