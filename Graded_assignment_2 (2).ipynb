{
 "cells": [
  {
   "cell_type": "markdown",
   "metadata": {},
   "source": [
    "# Graded Assignment 2\n",
    "Mark Klik & Misja Mikkers\n",
    "\n",
    "# Packages\n",
    "\n",
    "# Assignment 1\n",
    "\n",
    "First load the `tidyverse` package:"
   ]
  },
  {
   "cell_type": "code",
   "execution_count": 80,
   "metadata": {},
   "outputs": [],
   "source": [
    "library(tidyverse)"
   ]
  },
  {
   "cell_type": "markdown",
   "metadata": {},
   "source": [
    "##  Assignment 1a\n",
    "\n",
    "Read the data file _graded_assignment_2.csv_ from disk:"
   ]
  },
  {
   "cell_type": "code",
   "execution_count": 81,
   "metadata": {},
   "outputs": [
    {
     "data": {
      "text/html": [
       "<table>\n",
       "<thead><tr><th scope=col>ID</th><th scope=col>Group</th><th scope=col>FKG</th><th scope=col>DKG</th><th scope=col>Gender</th><th scope=col>Elderly</th><th scope=col>Age</th></tr></thead>\n",
       "<tbody>\n",
       "\t<tr><td>1     </td><td> 9    </td><td>1     </td><td>0     </td><td>male  </td><td>65-   </td><td>40-44 </td></tr>\n",
       "\t<tr><td>2     </td><td>28    </td><td>1     </td><td>1     </td><td>female</td><td>65-   </td><td>35-39 </td></tr>\n",
       "\t<tr><td>3     </td><td> 5    </td><td>1     </td><td>1     </td><td>male  </td><td>65-   </td><td>20-24 </td></tr>\n",
       "\t<tr><td>4     </td><td>23    </td><td>0     </td><td>0     </td><td>female</td><td>65-   </td><td>10-14 </td></tr>\n",
       "\t<tr><td>5     </td><td>37    </td><td>0     </td><td>0     </td><td>female</td><td>65+   </td><td>80-84 </td></tr>\n",
       "\t<tr><td>6     </td><td>40    </td><td>1     </td><td>0     </td><td>female</td><td>65+   </td><td>95-99 </td></tr>\n",
       "</tbody>\n",
       "</table>\n"
      ],
      "text/latex": [
       "\\begin{tabular}{r|lllllll}\n",
       " ID & Group & FKG & DKG & Gender & Elderly & Age\\\\\n",
       "\\hline\n",
       "\t 1      &  9     & 1      & 0      & male   & 65-    & 40-44 \\\\\n",
       "\t 2      & 28     & 1      & 1      & female & 65-    & 35-39 \\\\\n",
       "\t 3      &  5     & 1      & 1      & male   & 65-    & 20-24 \\\\\n",
       "\t 4      & 23     & 0      & 0      & female & 65-    & 10-14 \\\\\n",
       "\t 5      & 37     & 0      & 0      & female & 65+    & 80-84 \\\\\n",
       "\t 6      & 40     & 1      & 0      & female & 65+    & 95-99 \\\\\n",
       "\\end{tabular}\n"
      ],
      "text/markdown": [
       "\n",
       "ID | Group | FKG | DKG | Gender | Elderly | Age | \n",
       "|---|---|---|---|---|---|\n",
       "| 1      |  9     | 1      | 0      | male   | 65-    | 40-44  | \n",
       "| 2      | 28     | 1      | 1      | female | 65-    | 35-39  | \n",
       "| 3      |  5     | 1      | 1      | male   | 65-    | 20-24  | \n",
       "| 4      | 23     | 0      | 0      | female | 65-    | 10-14  | \n",
       "| 5      | 37     | 0      | 0      | female | 65+    | 80-84  | \n",
       "| 6      | 40     | 1      | 0      | female | 65+    | 95-99  | \n",
       "\n",
       "\n"
      ],
      "text/plain": [
       "  ID Group FKG DKG Gender Elderly Age  \n",
       "1 1   9    1   0   male   65-     40-44\n",
       "2 2  28    1   1   female 65-     35-39\n",
       "3 3   5    1   1   male   65-     20-24\n",
       "4 4  23    0   0   female 65-     10-14\n",
       "5 5  37    0   0   female 65+     80-84\n",
       "6 6  40    1   0   female 65+     95-99"
      ]
     },
     "metadata": {},
     "output_type": "display_data"
    }
   ],
   "source": [
    "data1 <- read.csv2(\"../Sourcedata/graded_assignment_2.csv\")\n",
    "head(data1)"
   ]
  },
  {
   "cell_type": "markdown",
   "metadata": {},
   "source": [
    "## Assignment 1b\n",
    "\n",
    "Add column \"Health_status\" with containing values _1_ (Healthy) and _0_ (Unhealthy).\n",
    "A person is Healthy, when `FKG` equals 0 and `DKG` equals 0.\n",
    "\n",
    "So\n",
    "\n",
    "| FKG | DKG | Health_status   |\n",
    "|-----|-----|--------------   |\n",
    "| 0   | 0   | 1               |\n",
    "| 1   | 0   | 0               |\n",
    "| 0   | 1   | 0               |\n",
    "| 1   | 1   | 0               |\n",
    "\n",
    "Hint: you can use `ifelse()`:"
   ]
  },
  {
   "cell_type": "code",
   "execution_count": 82,
   "metadata": {},
   "outputs": [
    {
     "data": {
      "text/html": [
       "<table>\n",
       "<thead><tr><th scope=col>ID</th><th scope=col>Group</th><th scope=col>FKG</th><th scope=col>DKG</th><th scope=col>Gender</th><th scope=col>Elderly</th><th scope=col>Age</th><th scope=col>Health_status</th></tr></thead>\n",
       "<tbody>\n",
       "\t<tr><td>1     </td><td> 9    </td><td>1     </td><td>0     </td><td>male  </td><td>65-   </td><td>40-44 </td><td>0     </td></tr>\n",
       "\t<tr><td>2     </td><td>28    </td><td>1     </td><td>1     </td><td>female</td><td>65-   </td><td>35-39 </td><td>0     </td></tr>\n",
       "\t<tr><td>3     </td><td> 5    </td><td>1     </td><td>1     </td><td>male  </td><td>65-   </td><td>20-24 </td><td>0     </td></tr>\n",
       "\t<tr><td>4     </td><td>23    </td><td>0     </td><td>0     </td><td>female</td><td>65-   </td><td>10-14 </td><td>1     </td></tr>\n",
       "\t<tr><td>5     </td><td>37    </td><td>0     </td><td>0     </td><td>female</td><td>65+   </td><td>80-84 </td><td>1     </td></tr>\n",
       "\t<tr><td>6     </td><td>40    </td><td>1     </td><td>0     </td><td>female</td><td>65+   </td><td>95-99 </td><td>0     </td></tr>\n",
       "</tbody>\n",
       "</table>\n"
      ],
      "text/latex": [
       "\\begin{tabular}{r|llllllll}\n",
       " ID & Group & FKG & DKG & Gender & Elderly & Age & Health\\_status\\\\\n",
       "\\hline\n",
       "\t 1      &  9     & 1      & 0      & male   & 65-    & 40-44  & 0     \\\\\n",
       "\t 2      & 28     & 1      & 1      & female & 65-    & 35-39  & 0     \\\\\n",
       "\t 3      &  5     & 1      & 1      & male   & 65-    & 20-24  & 0     \\\\\n",
       "\t 4      & 23     & 0      & 0      & female & 65-    & 10-14  & 1     \\\\\n",
       "\t 5      & 37     & 0      & 0      & female & 65+    & 80-84  & 1     \\\\\n",
       "\t 6      & 40     & 1      & 0      & female & 65+    & 95-99  & 0     \\\\\n",
       "\\end{tabular}\n"
      ],
      "text/markdown": [
       "\n",
       "ID | Group | FKG | DKG | Gender | Elderly | Age | Health_status | \n",
       "|---|---|---|---|---|---|\n",
       "| 1      |  9     | 1      | 0      | male   | 65-    | 40-44  | 0      | \n",
       "| 2      | 28     | 1      | 1      | female | 65-    | 35-39  | 0      | \n",
       "| 3      |  5     | 1      | 1      | male   | 65-    | 20-24  | 0      | \n",
       "| 4      | 23     | 0      | 0      | female | 65-    | 10-14  | 1      | \n",
       "| 5      | 37     | 0      | 0      | female | 65+    | 80-84  | 1      | \n",
       "| 6      | 40     | 1      | 0      | female | 65+    | 95-99  | 0      | \n",
       "\n",
       "\n"
      ],
      "text/plain": [
       "  ID Group FKG DKG Gender Elderly Age   Health_status\n",
       "1 1   9    1   0   male   65-     40-44 0            \n",
       "2 2  28    1   1   female 65-     35-39 0            \n",
       "3 3   5    1   1   male   65-     20-24 0            \n",
       "4 4  23    0   0   female 65-     10-14 1            \n",
       "5 5  37    0   0   female 65+     80-84 1            \n",
       "6 6  40    1   0   female 65+     95-99 0            "
      ]
     },
     "metadata": {},
     "output_type": "display_data"
    }
   ],
   "source": [
    "data2 <- data1 %>%\n",
    "  mutate(Health_status=ifelse((data2$FKG == 0 & data2$DKG ==0), \"1\", \"0\"))\n",
    "head(data2)"
   ]
  },
  {
   "cell_type": "markdown",
   "metadata": {},
   "source": [
    "In the next datacamp course you will learn more about the package `dplyr`. For now we just give you some code. You can run the following script.\n",
    "\n",
    "First, we want to make \"Health_status\" a factor instead of a character"
   ]
  },
  {
   "cell_type": "code",
   "execution_count": 83,
   "metadata": {},
   "outputs": [
    {
     "name": "stdout",
     "output_type": "stream",
     "text": [
      "'data.frame':\t10000 obs. of  8 variables:\n",
      " $ ID           : int  1 2 3 4 5 6 7 8 9 10 ...\n",
      " $ Group        : int  9 28 5 23 37 40 36 23 36 2 ...\n",
      " $ FKG          : int  1 1 1 0 0 1 0 1 1 0 ...\n",
      " $ DKG          : int  0 1 1 0 0 0 1 0 0 0 ...\n",
      " $ Gender       : Factor w/ 2 levels \"female\",\"male\": 2 1 2 1 1 1 1 1 1 2 ...\n",
      " $ Elderly      : Factor w/ 2 levels \"65+\",\"65-\": 2 2 2 2 1 1 1 2 1 2 ...\n",
      " $ Age          : Factor w/ 20 levels \"0-4\",\"10-14\",..: 8 7 4 2 17 20 16 2 16 10 ...\n",
      " $ Health_status: num  0 0 0 1 1 0 0 0 0 1 ...\n"
     ]
    }
   ],
   "source": [
    "data2 <- data2 %>%\n",
    "  mutate(Health_status = as.numeric(Health_status))\n",
    "str(data2)"
   ]
  },
  {
   "cell_type": "markdown",
   "metadata": {},
   "source": [
    "Then, we want to count the number of healthy and unhealthy males and females"
   ]
  },
  {
   "cell_type": "code",
   "execution_count": 84,
   "metadata": {},
   "outputs": [
    {
     "data": {
      "text/html": [
       "<table>\n",
       "<thead><tr><th scope=col>Gender</th><th scope=col>Health_status</th><th scope=col>Count_observations</th></tr></thead>\n",
       "<tbody>\n",
       "\t<tr><td>female</td><td>0     </td><td>3646  </td></tr>\n",
       "\t<tr><td>female</td><td>1     </td><td>1297  </td></tr>\n",
       "\t<tr><td>male  </td><td>0     </td><td>3815  </td></tr>\n",
       "\t<tr><td>male  </td><td>1     </td><td>1242  </td></tr>\n",
       "</tbody>\n",
       "</table>\n"
      ],
      "text/latex": [
       "\\begin{tabular}{r|lll}\n",
       " Gender & Health\\_status & Count\\_observations\\\\\n",
       "\\hline\n",
       "\t female & 0      & 3646  \\\\\n",
       "\t female & 1      & 1297  \\\\\n",
       "\t male   & 0      & 3815  \\\\\n",
       "\t male   & 1      & 1242  \\\\\n",
       "\\end{tabular}\n"
      ],
      "text/markdown": [
       "\n",
       "Gender | Health_status | Count_observations | \n",
       "|---|---|---|---|\n",
       "| female | 0      | 3646   | \n",
       "| female | 1      | 1297   | \n",
       "| male   | 0      | 3815   | \n",
       "| male   | 1      | 1242   | \n",
       "\n",
       "\n"
      ],
      "text/plain": [
       "  Gender Health_status Count_observations\n",
       "1 female 0             3646              \n",
       "2 female 1             1297              \n",
       "3 male   0             3815              \n",
       "4 male   1             1242              "
      ]
     },
     "metadata": {},
     "output_type": "display_data"
    }
   ],
   "source": [
    "data3 <- data2 %>%\n",
    "  group_by(Gender, Health_status) %>%\n",
    " summarise(Count_observations = n()) %>%\n",
    "  mutate(Health_status=as.factor(Health_status))\n",
    "\n",
    "data3"
   ]
  },
  {
   "cell_type": "markdown",
   "metadata": {},
   "source": [
    "## Assignment 2\n",
    "\n",
    "Recreate with the dataframe \"data3\" the following barchart ![](../Sourcedata/barchart.png)\n",
    "\n",
    "* Hint: see for changing the [legends and colors](http://www.cookbook-r.com/Graphs/Legends_(ggplot2)/)\n",
    "* Hint: the \"green\" color is in fact the color \"greenyellow\"\n",
    "* Hint: see for the [themes](http://ggplot2.tidyverse.org/reference/ggtheme.html): \n",
    "\n"
   ]
  },
  {
   "cell_type": "code",
   "execution_count": 85,
   "metadata": {},
   "outputs": [
    {
     "data": {},
     "metadata": {},
     "output_type": "display_data"
    },
    {
     "data": {
      "image/png": "[encoded data removed]",
      "text/plain": [
       "plot without title"
      ]
     },
     "metadata": {},
     "output_type": "display_data"
    }
   ],
   "source": [
    "ggplot(data3, aes(Gender, Count_observations, fill = Health_status)) + \n",
    "geom_bar(position = \"dodge\", stat = \"identity\") + \n",
    "theme_classic(base_size=11)+ \n",
    "theme(legend.text=element_text(face='bold'))+\n",
    "scale_fill_manual(values = c(\"red\",\"greenyellow\"),name =\"Health Status\",breaks=c(\"0\",\"1\"), labels=c(\"Unhealthy\", \"Healthy\")) +\n",
    "labs(y = \"Number\")"
   ]
  },
  {
   "cell_type": "markdown",
   "metadata": {},
   "source": [
    "End notebook"
   ]
  }
 ],
 "metadata": {
  "anaconda-cloud": {},
  "kernelspec": {
   "display_name": "R",
   "language": "R",
   "name": "ir"
  },
  "language_info": {
   "codemirror_mode": "r",
   "file_extension": ".r",
   "mimetype": "text/x-r-source",
   "name": "R",
   "pygments_lexer": "r",
   "version": "3.3.2"
  }
 },
 "nbformat": 4,
 "nbformat_minor": 1
}
